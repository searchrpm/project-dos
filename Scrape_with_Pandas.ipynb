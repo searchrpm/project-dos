{
 "cells": [
  {
   "cell_type": "code",
   "execution_count": 9,
   "metadata": {},
   "outputs": [],
   "source": [
    "import pandas as pd"
   ]
  },
  {
   "cell_type": "code",
   "execution_count": 10,
   "metadata": {},
   "outputs": [],
   "source": [
    "url = 'https://en.wikipedia.org/wiki/List_of_current_UFC_fighters'"
   ]
  },
  {
   "cell_type": "code",
   "execution_count": 11,
   "metadata": {},
   "outputs": [
    {
     "data": {
      "text/plain": [
       "20"
      ]
     },
     "execution_count": 11,
     "metadata": {},
     "output_type": "execute_result"
    }
   ],
   "source": [
    "tables = pd.read_html(url)\n",
    "len(tables)"
   ]
  },
  {
   "cell_type": "code",
   "execution_count": 12,
   "metadata": {},
   "outputs": [
    {
     "data": {
      "text/html": [
       "<div>\n",
       "<style scoped>\n",
       "    .dataframe tbody tr th:only-of-type {\n",
       "        vertical-align: middle;\n",
       "    }\n",
       "\n",
       "    .dataframe tbody tr th {\n",
       "        vertical-align: top;\n",
       "    }\n",
       "\n",
       "    .dataframe thead th {\n",
       "        text-align: right;\n",
       "    }\n",
       "</style>\n",
       "<table border=\"1\" class=\"dataframe\">\n",
       "  <thead>\n",
       "    <tr style=\"text-align: right;\">\n",
       "      <th></th>\n",
       "      <th>ISO</th>\n",
       "      <th>Name</th>\n",
       "      <th>Age</th>\n",
       "      <th>Ht.</th>\n",
       "      <th>Nickname</th>\n",
       "      <th>Result / next fight / status</th>\n",
       "      <th>Ref</th>\n",
       "      <th>Endeavor record</th>\n",
       "      <th>MMA record</th>\n",
       "    </tr>\n",
       "  </thead>\n",
       "  <tbody>\n",
       "    <tr>\n",
       "      <th>0</th>\n",
       "      <td>NaN</td>\n",
       "      <td>Andrei Arlovski *</td>\n",
       "      <td>40</td>\n",
       "      <td>6 ft 3 in (1.91 m)</td>\n",
       "      <td>The Pit Bull</td>\n",
       "      <td>Loss - UFC 244 (New York City) - Jairzinho Roz...</td>\n",
       "      <td>[112]</td>\n",
       "      <td>NaN</td>\n",
       "      <td>NaN</td>\n",
       "    </tr>\n",
       "    <tr>\n",
       "      <th>1</th>\n",
       "      <td>NaN</td>\n",
       "      <td>Alistair Overeem *</td>\n",
       "      <td>39</td>\n",
       "      <td>6 ft 5 in (1.96 m)</td>\n",
       "      <td>The Reem</td>\n",
       "      <td>UFC on ESPN 7 (Washington D.C.) - Jairzinho Ro...</td>\n",
       "      <td>[113]</td>\n",
       "      <td>NaN</td>\n",
       "      <td>NaN</td>\n",
       "    </tr>\n",
       "    <tr>\n",
       "      <th>2</th>\n",
       "      <td>NaN</td>\n",
       "      <td>Fabrício Werdum *</td>\n",
       "      <td>42</td>\n",
       "      <td>6 ft 4 in (1.93 m)</td>\n",
       "      <td>Vai Cavalo</td>\n",
       "      <td>USADA suspension for 2 years - for tested posi...</td>\n",
       "      <td>[80]</td>\n",
       "      <td>NaN</td>\n",
       "      <td>NaN</td>\n",
       "    </tr>\n",
       "    <tr>\n",
       "      <th>3</th>\n",
       "      <td>NaN</td>\n",
       "      <td>Junior dos Santos</td>\n",
       "      <td>35</td>\n",
       "      <td>6 ft 4 in (1.93 m)</td>\n",
       "      <td>Cigano</td>\n",
       "      <td>UFC Fight Night 166 (Raleigh) - Curtis Blaydes</td>\n",
       "      <td>[50]</td>\n",
       "      <td>NaN</td>\n",
       "      <td>NaN</td>\n",
       "    </tr>\n",
       "    <tr>\n",
       "      <th>4</th>\n",
       "      <td>NaN</td>\n",
       "      <td>Todd Duffee</td>\n",
       "      <td>33</td>\n",
       "      <td>6 ft 4 in (1.93 m)</td>\n",
       "      <td>Irish Car Bomb</td>\n",
       "      <td>No Contest - UFC on ESPN+ 16 (Vancouver) - Jef...</td>\n",
       "      <td>[114]</td>\n",
       "      <td>NaN</td>\n",
       "      <td>NaN</td>\n",
       "    </tr>\n",
       "  </tbody>\n",
       "</table>\n",
       "</div>"
      ],
      "text/plain": [
       "   ISO                Name  Age                 Ht.        Nickname  \\\n",
       "0  NaN   Andrei Arlovski *   40  6 ft 3 in (1.91 m)    The Pit Bull   \n",
       "1  NaN  Alistair Overeem *   39  6 ft 5 in (1.96 m)        The Reem   \n",
       "2  NaN   Fabrício Werdum *   42  6 ft 4 in (1.93 m)      Vai Cavalo   \n",
       "3  NaN   Junior dos Santos   35  6 ft 4 in (1.93 m)          Cigano   \n",
       "4  NaN         Todd Duffee   33  6 ft 4 in (1.93 m)  Irish Car Bomb   \n",
       "\n",
       "                        Result / next fight / status    Ref  Endeavor record  \\\n",
       "0  Loss - UFC 244 (New York City) - Jairzinho Roz...  [112]              NaN   \n",
       "1  UFC on ESPN 7 (Washington D.C.) - Jairzinho Ro...  [113]              NaN   \n",
       "2  USADA suspension for 2 years - for tested posi...   [80]              NaN   \n",
       "3     UFC Fight Night 166 (Raleigh) - Curtis Blaydes   [50]              NaN   \n",
       "4  No Contest - UFC on ESPN+ 16 (Vancouver) - Jef...  [114]              NaN   \n",
       "\n",
       "   MMA record  \n",
       "0         NaN  \n",
       "1         NaN  \n",
       "2         NaN  \n",
       "3         NaN  \n",
       "4         NaN  "
      ]
     },
     "execution_count": 12,
     "metadata": {},
     "output_type": "execute_result"
    }
   ],
   "source": [
    "tables[8].head()"
   ]
  },
  {
   "cell_type": "code",
   "execution_count": null,
   "metadata": {},
   "outputs": [],
   "source": []
  },
  {
   "cell_type": "code",
   "execution_count": 13,
   "metadata": {},
   "outputs": [],
   "source": [
    "df = tables[8]\n"
   ]
  },
  {
   "cell_type": "code",
   "execution_count": 14,
   "metadata": {},
   "outputs": [
    {
     "data": {
      "text/plain": [
       "'<table border=\"1\" class=\"dataframe\">\\n  <thead>\\n    <tr style=\"text-align: right;\">\\n      <th></th>\\n      <th>ISO</th>\\n      <th>Name</th>\\n      <th>Age</th>\\n      <th>Ht.</th>\\n      <th>Nickname</th>\\n      <th>Result / next fight / status</th>\\n      <th>Ref</th>\\n      <th>Endeavor record</th>\\n      <th>MMA record</th>\\n    </tr>\\n  </thead>\\n  <tbody>\\n    <tr>\\n      <th>0</th>\\n      <td>NaN</td>\\n      <td>Andrei Arlovski *</td>\\n      <td>40</td>\\n      <td>6\\xa0ft 3\\xa0in (1.91\\xa0m)</td>\\n      <td>The Pit Bull</td>\\n      <td>Loss - UFC 244 (New York City) - Jairzinho Roz...</td>\\n      <td>[112]</td>\\n      <td>NaN</td>\\n      <td>NaN</td>\\n    </tr>\\n    <tr>\\n      <th>1</th>\\n      <td>NaN</td>\\n      <td>Alistair Overeem *</td>\\n      <td>39</td>\\n      <td>6\\xa0ft 5\\xa0in (1.96\\xa0m)</td>\\n      <td>The Reem</td>\\n      <td>UFC on ESPN 7 (Washington D.C.) - Jairzinho Ro...</td>\\n      <td>[113]</td>\\n      <td>NaN</td>\\n      <td>NaN</td>\\n    </tr>\\n    <tr>\\n      <th>2</th>\\n      <td>NaN</td>\\n      <td>Fabrício Werdum *</td>\\n      <td>42</td>\\n      <td>6\\xa0ft 4\\xa0in (1.93\\xa0m)</td>\\n      <td>Vai Cavalo</td>\\n      <td>USADA suspension for 2 years - for tested posi...</td>\\n      <td>[80]</td>\\n      <td>NaN</td>\\n      <td>NaN</td>\\n    </tr>\\n    <tr>\\n      <th>3</th>\\n      <td>NaN</td>\\n      <td>Junior dos Santos</td>\\n      <td>35</td>\\n      <td>6\\xa0ft 4\\xa0in (1.93\\xa0m)</td>\\n      <td>Cigano</td>\\n      <td>UFC Fight Night 166 (Raleigh) - Curtis Blaydes</td>\\n      <td>[50]</td>\\n      <td>NaN</td>\\n      <td>NaN</td>\\n    </tr>\\n    <tr>\\n      <th>4</th>\\n      <td>NaN</td>\\n      <td>Todd Duffee</td>\\n      <td>33</td>\\n      <td>6\\xa0ft 4\\xa0in (1.93\\xa0m)</td>\\n      <td>Irish Car Bomb</td>\\n      <td>No Contest - UFC on ESPN+ 16 (Vancouver) - Jef...</td>\\n      <td>[114]</td>\\n      <td>NaN</td>\\n      <td>NaN</td>\\n    </tr>\\n    <tr>\\n      <th>5</th>\\n      <td>NaN</td>\\n      <td>Ben Rothwell</td>\\n      <td>38</td>\\n      <td>6\\xa0ft 4\\xa0in (1.93\\xa0m)</td>\\n      <td>NaN</td>\\n      <td>UFC on ESPN 7 (Washington D.C.) - Stefan Struve</td>\\n      <td>[57]</td>\\n      <td>NaN</td>\\n      <td>NaN</td>\\n    </tr>\\n    <tr>\\n      <th>6</th>\\n      <td>NaN</td>\\n      <td>Daniel Cormier *</td>\\n      <td>40</td>\\n      <td>5\\xa0ft 11\\xa0in (1.80\\xa0m)</td>\\n      <td>DC</td>\\n      <td>Loss - UFC 241 (Anaheim) - Stipe Miocic</td>\\n      <td>[111]</td>\\n      <td>NaN</td>\\n      <td>NaN</td>\\n    </tr>\\n    <tr>\\n      <th>7</th>\\n      <td>NaN</td>\\n      <td>Stipe Miočić (C)</td>\\n      <td>37</td>\\n      <td>6\\xa0ft 4\\xa0in (1.93\\xa0m)</td>\\n      <td>NaN</td>\\n      <td>Win - UFC 241 (Anaheim) - Daniel Cormier</td>\\n      <td>[111]</td>\\n      <td>NaN</td>\\n      <td>NaN</td>\\n    </tr>\\n    <tr>\\n      <th>8</th>\\n      <td>NaN</td>\\n      <td>Walt Harris</td>\\n      <td>36</td>\\n      <td>6\\xa0ft 5\\xa0in (1.96\\xa0m)</td>\\n      <td>The Big Ticket</td>\\n      <td>(November 1, 2019) Withdraw from the bout due ...</td>\\n      <td>[115]</td>\\n      <td>NaN</td>\\n      <td>NaN</td>\\n    </tr>\\n    <tr>\\n      <th>9</th>\\n      <td>NaN</td>\\n      <td>Derrick Lewis</td>\\n      <td>34</td>\\n      <td>6\\xa0ft 3\\xa0in (1.91\\xa0m)</td>\\n      <td>Black Beast</td>\\n      <td>Win - UFC 244 (New York City) - Blagoy Ivanov</td>\\n      <td>[116]</td>\\n      <td>NaN</td>\\n      <td>NaN</td>\\n    </tr>\\n    <tr>\\n      <th>10</th>\\n      <td>NaN</td>\\n      <td>Marcos Rogério de Lima *</td>\\n      <td>34</td>\\n      <td>6\\xa0ft 1\\xa0in (1.85\\xa0m)</td>\\n      <td>Pezão</td>\\n      <td>Loss - UFC on ESPN+ 3 (Prague) - Stefan Struve</td>\\n      <td>[117]</td>\\n      <td>NaN</td>\\n      <td>NaN</td>\\n    </tr>\\n    <tr>\\n      <th>11</th>\\n      <td>NaN</td>\\n      <td>Aleksei Oleinik</td>\\n      <td>42</td>\\n      <td>6\\xa0ft 2\\xa0in (1.88\\xa0m)</td>\\n      <td>The Boa Constrictor</td>\\n      <td>UFC 246 (Las Vegas) - Maurice Greene</td>\\n      <td>[118]</td>\\n      <td>NaN</td>\\n      <td>NaN</td>\\n    </tr>\\n    <tr>\\n      <th>12</th>\\n      <td>NaN</td>\\n      <td>Jarjis Danho</td>\\n      <td>36</td>\\n      <td>6\\xa0ft 3\\xa0in (1.91\\xa0m)</td>\\n      <td>Man Mountain</td>\\n      <td>NaN</td>\\n      <td>NaN</td>\\n      <td>NaN</td>\\n      <td>NaN</td>\\n    </tr>\\n    <tr>\\n      <th>13</th>\\n      <td>NaN</td>\\n      <td>Shamil Abdurakhimov</td>\\n      <td>38</td>\\n      <td>6\\xa0ft 3\\xa0in (1.91\\xa0m)</td>\\n      <td>Abrek</td>\\n      <td>Loss - UFC 242 (Abu Dhabi) - Curtis Blaydes</td>\\n      <td>[119]</td>\\n      <td>NaN</td>\\n      <td>NaN</td>\\n    </tr>\\n    <tr>\\n      <th>14</th>\\n      <td>NaN</td>\\n      <td>Chris de la Rocha</td>\\n      <td>40</td>\\n      <td>6\\xa0ft 3\\xa0in (1.91\\xa0m)</td>\\n      <td>NaN</td>\\n      <td>Loss - UFC on Fox 31 (Milwaukee) - Juan Adams</td>\\n      <td>[120]</td>\\n      <td>NaN</td>\\n      <td>NaN</td>\\n    </tr>\\n    <tr>\\n      <th>15</th>\\n      <td>NaN</td>\\n      <td>Francis Ngannou</td>\\n      <td>33</td>\\n      <td>6\\xa0ft 4\\xa0in (1.93\\xa0m)</td>\\n      <td>The Predator</td>\\n      <td>Win - UFC on ESPN 3 (Minneapolis) - Junior dos...</td>\\n      <td>[121]</td>\\n      <td>NaN</td>\\n      <td>NaN</td>\\n    </tr>\\n    <tr>\\n      <th>16</th>\\n      <td>NaN</td>\\n      <td>Curtis Blaydes</td>\\n      <td>28</td>\\n      <td>6\\xa0ft 4\\xa0in (1.93\\xa0m)</td>\\n      <td>Razor</td>\\n      <td>UFC Fight Night 166 (Raleigh) - Curtis Blaydes</td>\\n      <td>[50]</td>\\n      <td>NaN</td>\\n      <td>NaN</td>\\n    </tr>\\n    <tr>\\n      <th>17</th>\\n      <td>NaN</td>\\n      <td>Cyril Asker</td>\\n      <td>33</td>\\n      <td>6\\xa0ft 0\\xa0in (1.83\\xa0m)</td>\\n      <td>Silverback</td>\\n      <td>NaN</td>\\n      <td>NaN</td>\\n      <td>NaN</td>\\n      <td>NaN</td>\\n    </tr>\\n    <tr>\\n      <th>18</th>\\n      <td>NaN</td>\\n      <td>Marcin Tybura</td>\\n      <td>34</td>\\n      <td>6\\xa0ft 3\\xa0in (1.91\\xa0m)</td>\\n      <td>Tybur</td>\\n      <td>Loss - UFC on ESPN+ 16 (Vancouver) - Augusto S...</td>\\n      <td>[122]</td>\\n      <td>NaN</td>\\n      <td>NaN</td>\\n    </tr>\\n    <tr>\\n      <th>19</th>\\n      <td>NaN</td>\\n      <td>Alexander Volkov</td>\\n      <td>31</td>\\n      <td>6\\xa0ft 7\\xa0in (2.01\\xa0m)</td>\\n      <td>Drago</td>\\n      <td>Win - UFC on ESPN+ 21 (Moscow) - Greg Hardy</td>\\n      <td>[123]</td>\\n      <td>NaN</td>\\n      <td>NaN</td>\\n    </tr>\\n    <tr>\\n      <th>20</th>\\n      <td>NaN</td>\\n      <td>Daniel Spitz</td>\\n      <td>29</td>\\n      <td>6\\xa0ft 7\\xa0in (2.01\\xa0m)</td>\\n      <td>Daddy Long Legs</td>\\n      <td>Loss - UFC on ESPN 6 (Boston) - Tanner Boser</td>\\n      <td>[124]</td>\\n      <td>NaN</td>\\n      <td>NaN</td>\\n    </tr>\\n    <tr>\\n      <th>21</th>\\n      <td>NaN</td>\\n      <td>Júnior Albini</td>\\n      <td>28</td>\\n      <td>6\\xa0ft 3\\xa0in (1.91\\xa0m)</td>\\n      <td>Baby</td>\\n      <td>Loss - UFC on ESPN 3 (Minneapolis) - Maurice G...</td>\\n      <td>[125]</td>\\n      <td>NaN</td>\\n      <td>NaN</td>\\n    </tr>\\n    <tr>\\n      <th>22</th>\\n      <td>NaN</td>\\n      <td>Adam Wieczorek</td>\\n      <td>27</td>\\n      <td>6\\xa0ft 5\\xa0in (1.96\\xa0m)</td>\\n      <td>Siwy</td>\\n      <td>(1) Loss - UFC 230 (New York) - Marcos Rogério...</td>\\n      <td>[126][127]</td>\\n      <td>NaN</td>\\n      <td>NaN</td>\\n    </tr>\\n    <tr>\\n      <th>23</th>\\n      <td>NaN</td>\\n      <td>Tai Tuivasa</td>\\n      <td>26</td>\\n      <td>6\\xa0ft 2\\xa0in (1.88\\xa0m)</td>\\n      <td>Bam Bam</td>\\n      <td>Loss - UFC 243 (Melbourne) - Sergey Spivak</td>\\n      <td>[128]</td>\\n      <td>NaN</td>\\n      <td>NaN</td>\\n    </tr>\\n    <tr>\\n      <th>24</th>\\n      <td>NaN</td>\\n      <td>Dmitry Sosnovskiy</td>\\n      <td>30</td>\\n      <td>6\\xa0ft 3\\xa0in (1.91\\xa0m)</td>\\n      <td>Wicked Machine</td>\\n      <td>(September 2019) Arrested by Russian authority...</td>\\n      <td>[129]</td>\\n      <td>NaN</td>\\n      <td>NaN</td>\\n    </tr>\\n    <tr>\\n      <th>25</th>\\n      <td>NaN</td>\\n      <td>Blagoy Ivanov</td>\\n      <td>33</td>\\n      <td>5\\xa0ft 11\\xa0in (1.80\\xa0m)</td>\\n      <td>Baga</td>\\n      <td>Loss - UFC 244 (New York City) - Derrick Lewis</td>\\n      <td>[116]</td>\\n      <td>NaN</td>\\n      <td>NaN</td>\\n    </tr>\\n    <tr>\\n      <th>26</th>\\n      <td>NaN</td>\\n      <td>Augusto Sakai</td>\\n      <td>28</td>\\n      <td>6\\xa0ft 4\\xa0in (1.93\\xa0m)</td>\\n      <td>NaN</td>\\n      <td>Win - UFC on ESPN+ 16 (Vancouver) - Marcin Tybura</td>\\n      <td>[122]</td>\\n      <td>NaN</td>\\n      <td>NaN</td>\\n    </tr>\\n    <tr>\\n      <th>27</th>\\n      <td>NaN</td>\\n      <td>Sergey Pavlovich</td>\\n      <td>27</td>\\n      <td>6\\xa0ft 3\\xa0in (1.91\\xa0m)</td>\\n      <td>NaN</td>\\n      <td>Win - UFC on ESPN+ 20 (Singapore) - Maurice Gr...</td>\\n      <td>[130]</td>\\n      <td>NaN</td>\\n      <td>NaN</td>\\n    </tr>\\n    <tr>\\n      <th>28</th>\\n      <td>NaN</td>\\n      <td>Maurice Greene</td>\\n      <td>33</td>\\n      <td>6\\xa0ft 7\\xa0in (2.01\\xa0m)</td>\\n      <td>The Pirate</td>\\n      <td>UFC 246 (Las Vegas) - Aleksei Oleinik</td>\\n      <td>[131]</td>\\n      <td>NaN</td>\\n      <td>NaN</td>\\n    </tr>\\n    <tr>\\n      <th>29</th>\\n      <td>NaN</td>\\n      <td>Juan Espino</td>\\n      <td>39</td>\\n      <td>6\\xa0ft 4\\xa0in (1.93\\xa0m)</td>\\n      <td>El Guapo</td>\\n      <td>(1) Win - TUF 28 Finale (Las Vegas) - Justin F...</td>\\n      <td>[132][133]</td>\\n      <td>NaN</td>\\n      <td>NaN</td>\\n    </tr>\\n    <tr>\\n      <th>30</th>\\n      <td>NaN</td>\\n      <td>Juan Adams</td>\\n      <td>27</td>\\n      <td>6\\xa0ft 5\\xa0in (1.96\\xa0m)</td>\\n      <td>The Kraken</td>\\n      <td>Loss - UFC on ESPN 4 (San Antonio) - Greg Hardy</td>\\n      <td>[134]</td>\\n      <td>NaN</td>\\n      <td>NaN</td>\\n    </tr>\\n    <tr>\\n      <th>31</th>\\n      <td>NaN</td>\\n      <td>Greg Hardy</td>\\n      <td>31</td>\\n      <td>6\\xa0ft 5\\xa0in (1.96\\xa0m)</td>\\n      <td>NaN</td>\\n      <td>Loss - UFC on ESPN+ 21 (Moscow) - Alexander Vo...</td>\\n      <td>[123]</td>\\n      <td>NaN</td>\\n      <td>NaN</td>\\n    </tr>\\n    <tr>\\n      <th>32</th>\\n      <td>NaN</td>\\n      <td>Jairzinho Rozenstruik</td>\\n      <td>31</td>\\n      <td>6\\xa0ft 2\\xa0in (1.88\\xa0m)</td>\\n      <td>Bigi Boy</td>\\n      <td>UFC on ESPN 7 (Washington D.C.) - Alistair Ove...</td>\\n      <td>[113]</td>\\n      <td>NaN</td>\\n      <td>NaN</td>\\n    </tr>\\n    <tr>\\n      <th>33</th>\\n      <td>NaN</td>\\n      <td>Jeff Hughes</td>\\n      <td>31</td>\\n      <td>6\\xa0ft 2\\xa0in (1.88\\xa0m)</td>\\n      <td>Lights Out</td>\\n      <td>Loss - UFC on ESPN+ 20 (Singapore) - Raphael P...</td>\\n      <td>[135]</td>\\n      <td>NaN</td>\\n      <td>NaN</td>\\n    </tr>\\n    <tr>\\n      <th>34</th>\\n      <td>NaN</td>\\n      <td>Sergey Spivak</td>\\n      <td>24</td>\\n      <td>6\\xa0ft 3\\xa0in (1.91\\xa0m)</td>\\n      <td>The Polar Bear</td>\\n      <td>Win - UFC 243 (Melbourne) - Tai Tuivasa</td>\\n      <td>[128]</td>\\n      <td>NaN</td>\\n      <td>NaN</td>\\n    </tr>\\n    <tr>\\n      <th>35</th>\\n      <td>NaN</td>\\n      <td>Raphael Pessoa Nunes</td>\\n      <td>30</td>\\n      <td>6\\xa0ft 4\\xa0in (1.93\\xa0m)</td>\\n      <td>Bebezão</td>\\n      <td>Win - UFC on ESPN+ 20 (Singapore) - Jeff Hughes</td>\\n      <td>[135]</td>\\n      <td>NaN</td>\\n      <td>NaN</td>\\n    </tr>\\n    <tr>\\n      <th>36</th>\\n      <td>NaN</td>\\n      <td>Ciryl Gané</td>\\n      <td>29</td>\\n      <td>6\\xa0ft 5\\xa0in (1.96\\xa0m)</td>\\n      <td>Bon Gamin</td>\\n      <td>UFC on ESPN+ 22 (Busan) - Tanner Boser</td>\\n      <td>[136]</td>\\n      <td>NaN</td>\\n      <td>NaN</td>\\n    </tr>\\n    <tr>\\n      <th>37</th>\\n      <td>NaN</td>\\n      <td>Yorgan de Castro</td>\\n      <td>32</td>\\n      <td>6\\xa0ft 1\\xa0in (1.85\\xa0m)</td>\\n      <td>NaN</td>\\n      <td>Win - UFC 243 (Melbourne) - Justin Tafa</td>\\n      <td>[137]</td>\\n      <td>NaN</td>\\n      <td>NaN</td>\\n    </tr>\\n    <tr>\\n      <th>38</th>\\n      <td>NaN</td>\\n      <td>Justin Tafa</td>\\n      <td>25</td>\\n      <td>6\\xa0ft 0\\xa0in (1.83\\xa0m)</td>\\n      <td>Bad Man</td>\\n      <td>Loss - UFC 243 (Melbourne) - Yorgan de Castro</td>\\n      <td>[137]</td>\\n      <td>NaN</td>\\n      <td>NaN</td>\\n    </tr>\\n    <tr>\\n      <th>39</th>\\n      <td>NaN</td>\\n      <td>Tanner Boser</td>\\n      <td>28</td>\\n      <td>6\\xa0ft 2\\xa0in (1.88\\xa0m)</td>\\n      <td>The Bulldozer</td>\\n      <td>UFC on ESPN+ 22 (Busan) - Ciryl Gané</td>\\n      <td>[136]</td>\\n      <td>NaN</td>\\n      <td>NaN</td>\\n    </tr>\\n    <tr>\\n      <th>40</th>\\n      <td>NaN</td>\\n      <td>Ben Sosoli</td>\\n      <td>29</td>\\n      <td>6\\xa0ft 0\\xa0in (1.83\\xa0m)</td>\\n      <td>Combat Wombat</td>\\n      <td>No Contest - UFC on ESPN 6 (Boston) - Greg Har...</td>\\n      <td>[138]</td>\\n      <td>NaN</td>\\n      <td>NaN</td>\\n    </tr>\\n    <tr>\\n      <th>41</th>\\n      <td>NaN</td>\\n      <td>Don’tale Mayes</td>\\n      <td>27</td>\\n      <td>6\\xa0ft 6\\xa0in (1.98\\xa0m)</td>\\n      <td>Kong</td>\\n      <td>Loss - UFC on ESPN+ 20 (Singapore) - Ciryl Gane</td>\\n      <td>[139]</td>\\n      <td>NaN</td>\\n      <td>NaN</td>\\n    </tr>\\n  </tbody>\\n</table>'"
      ]
     },
     "execution_count": 14,
     "metadata": {},
     "output_type": "execute_result"
    }
   ],
   "source": [
    "html_table = df.to_html()\n",
    "html_table"
   ]
  },
  {
   "cell_type": "code",
   "execution_count": 15,
   "metadata": {},
   "outputs": [],
   "source": [
    "df.to_html('table.html')"
   ]
  },
  {
   "cell_type": "code",
   "execution_count": 18,
   "metadata": {},
   "outputs": [],
   "source": [
    "!open table.html"
   ]
  },
  {
   "cell_type": "code",
   "execution_count": null,
   "metadata": {},
   "outputs": [],
   "source": []
  }
 ],
 "metadata": {
  "kernelspec": {
   "display_name": "Conda [PythonData]",
   "language": "python",
   "name": "pythondata"
  },
  "language_info": {
   "codemirror_mode": {
    "name": "ipython",
    "version": 3
   },
   "file_extension": ".py",
   "mimetype": "text/x-python",
   "name": "python",
   "nbconvert_exporter": "python",
   "pygments_lexer": "ipython3",
   "version": "3.7.3"
  }
 },
 "nbformat": 4,
 "nbformat_minor": 2
}
